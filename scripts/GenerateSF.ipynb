{
 "cells": [
  {
   "cell_type": "code",
   "execution_count": null,
   "id": "51da26b5",
   "metadata": {
    "vscode": {
     "languageId": "plaintext"
    }
   },
   "outputs": [],
   "source": [
    "import os\n",
    "import shutil\n",
    "from glob import glob\n",
    "\n",
    "root = \"/DATA/Rajes/BCD/VOC\"\n",
    "dataset_name = \"INBreast\"\n",
    "dataset_path = os.path.join(root, dataset_name)                     # /DATA/Rajes/BCD/VOC/DDSM\n",
    "SF_dataset_path = f\"{dataset_path}_sf\"                              # /DATA/Rajes/BCD/VOC/DDSM_sf\n",
    "source_annotations = \"../Source/output/vgg16/PseudoL_ddsm2rsna/Annotations\"\n",
    "\n",
    "# Check if required paths exist\n",
    "if not os.path.exists(dataset_path):\n",
    "    raise FileNotFoundError(f\"Dataset path not found: {dataset_path}\")\n",
    "if not os.path.exists(source_annotations):\n",
    "    raise FileNotFoundError(f\"Source annotations not found: {source_annotations}\")\n",
    "\n",
    "# Create SF_dataset_path if it doesn't exist\n",
    "os.makedirs(SF_dataset_path, exist_ok=True)\n",
    "\n",
    "# Copy JPEGImages and ImageSets from original dataset\n",
    "for folder in [\"JPEGImages\", \"ImageSets\"]:\n",
    "    src = os.path.join(dataset_path, \"VOC2007\", folder)\n",
    "    dst = os.path.join(SF_dataset_path, \"VOC2007\", folder)\n",
    "    if not os.path.exists(src):\n",
    "        raise FileNotFoundError(f\"Required folder not found: {src}\")\n",
    "    shutil.copytree(src, dst, dirs_exist_ok=True)\n",
    "\n",
    "# Copy Source Annotations to SF_dataset_path/VOC2007/Annotations\n",
    "dst_annotations = os.path.join(SF_dataset_path, \"VOC2007/Annotations\")\n",
    "os.makedirs(dst_annotations, exist_ok=True)\n",
    "\n",
    "for file in glob(os.path.join(source_annotations, \"*.xml\")):\n",
    "    shutil.copy2(file, dst_annotations)\n",
    "\n",
    "# Count of source annotations\n",
    "source_count = len(glob(os.path.join(source_annotations, \"*.xml\")))\n",
    "\n",
    "# Copy test annotations from original dataset (assumed to be those not in source)\n",
    "\n",
    "# original_annotations = os.path.join(dataset_path, \"VOC2007\", \"Annotations\")\n",
    "# if not os.path.exists(original_annotations):\n",
    "#     raise FileNotFoundError(f\"Original Annotations folder not found: {original_annotations}\")\n",
    "\n",
    "# for file in glob(os.path.join(original_annotations, \"*.xml\")):\n",
    "#     filename = os.path.basename(file)\n",
    "#     if not os.path.exists(os.path.join(dst_annotations, filename)):\n",
    "#         shutil.copy2(file, dst_annotations)\n",
    "\n",
    "# # Count of test annotations (files from original that were not in source)\n",
    "# test_annotation_files = [\n",
    "#     f for f in glob(os.path.join(original_annotations, \"*.xml\"))\n",
    "#     if not os.path.exists(os.path.join(source_annotations, os.path.basename(f)))\n",
    "# ]\n",
    "# test_count = len(test_annotation_files)\n",
    "\n",
    "# Output counts\n",
    "print(f\"{SF_dataset_path} created\")\n",
    "print(f\"Count of Source Annotations: {source_count}\")\n",
    "# print(f\"Count of Test Annotations: {test_count}\")\n"
   ]
  },
  {
   "cell_type": "code",
   "execution_count": null,
   "id": "753f2115",
   "metadata": {
    "vscode": {
     "languageId": "plaintext"
    }
   },
   "outputs": [],
   "source": []
  }
 ],
 "metadata": {
  "language_info": {
   "name": "python"
  }
 },
 "nbformat": 4,
 "nbformat_minor": 5
}
