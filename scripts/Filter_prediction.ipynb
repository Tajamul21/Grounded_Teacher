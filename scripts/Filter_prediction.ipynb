{
 "cells": [
  {
   "cell_type": "code",
   "execution_count": null,
   "id": "7eecbe25",
   "metadata": {
    "vscode": {
     "languageId": "plaintext"
    }
   },
   "outputs": [],
   "source": [
    "input_file = '/DATA/Rajes/Research/classawareteacher/predictions.txt'\n",
    "output_file = 'filtered_predictions.txt'\n",
    "\n",
    "# Dictionary to store highest score per filename\n",
    "best_scores = {}\n",
    "\n",
    "with open(input_file, 'r') as file:\n",
    "    for line in file:\n",
    "        parts = line.strip().split()\n",
    "        if len(parts) < 3:\n",
    "            continue  # skip malformed lines\n",
    "        filename = parts[1]\n",
    "        score = float(parts[2])\n",
    "\n",
    "        # Update best score if this one is higher\n",
    "        if filename not in best_scores or score > best_scores[filename][0]:\n",
    "            best_scores[filename] = (score, line.strip())\n",
    "\n",
    "# Write filtered results\n",
    "with open(output_file, 'w') as out:\n",
    "    for _, entry in best_scores.values():\n",
    "        out.write(entry + '\\n')\n",
    "\n",
    "print(f\"Filtered predictions written to {output_file}\")"
   ]
  }
 ],
 "metadata": {
  "language_info": {
   "name": "python"
  }
 },
 "nbformat": 4,
 "nbformat_minor": 5
}
