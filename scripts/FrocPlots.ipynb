{
 "cells": [
  {
   "cell_type": "markdown",
   "id": "51b9aa01",
   "metadata": {},
   "source": [
    "# DDSM-INB 30k iter "
   ]
  },
  {
   "cell_type": "code",
   "execution_count": null,
   "id": "2389e772",
   "metadata": {
    "vscode": {
     "languageId": "plaintext"
    }
   },
   "outputs": [],
   "source": [
    "import numpy as np\n",
    "import matplotlib.pyplot as plt\n",
    "import os\n",
    "\n",
    "# Use a serif font for a more academic look\n",
    "plt.rcParams.update({\n",
    "    \"font.family\": \"serif\",\n",
    "    \"font.size\": 14,\n",
    "    \"figure.dpi\": 300\n",
    "})\n",
    "\n",
    "# Data\n",
    "froc_values_our = [0.02197802197802198, 0.06593406593406594, 0.15384615384615385, 0.27472527472527475, 0.31868131868131866, 0.43956043956043955, 0.5714285714285714, 0.6593406593406593, 0.7692307692307693, 0.8571428571428571, 0.9230769230769231, 0.9230769230769231, 0.9230769230769231, 0.9230769230769231]\n",
    "froc_values_source = [0.01098901098901099, 0.02197802197802198, 0.04395604395604396, 0.08791208791208792, 0.15384615384615385, 0.24175824175824176, 0.45054945054945056, 0.5494505494505495, 0.6813186813186813, 0.7912087912087912, 0.9230769230769231, 0.9230769230769231, 0.9230769230769231, 0.9230769230769231]\n",
    "fpi_levels = [0.025, 0.05, 0.1, 0.15, 0.2, 0.3, 0.4, 0.5, 0.6, 0.7, 0.8, 0.9, 0.99, 1]\n",
    "\n",
    "# Plot setup\n",
    "plt.figure(figsize=(8, 5))\n",
    "\n",
    "# Use edgecolor-only markers for better visibility when overlapping\n",
    "plt.plot(fpi_levels, froc_values_source, linestyle='-', marker='o', markersize=6,\n",
    "         markerfacecolor='white', markeredgecolor='blue', color='blue', label=\"MT\")\n",
    "plt.plot(fpi_levels, froc_values_our, linestyle='-', marker='s', markersize=6,\n",
    "         markerfacecolor='white', markeredgecolor='red', color='red', label=\"GT (ours)\")\n",
    "\n",
    "# Axis labels and title\n",
    "plt.xlabel(\"False Positives per Image (FPI) — 410 images\")\n",
    "plt.ylabel(\"True Positive Rate (TPR)\")\n",
    "plt.title(\"FROC Curve Comparison — DDSM-INB Dataset\")\n",
    "\n",
    "# Grid and legend\n",
    "plt.grid(True, linestyle='--', alpha=0.6)\n",
    "plt.legend(loc='lower right', frameon=True)\n",
    "\n",
    "output_path = f\"/DATA/Rajes/Research/AASFOD/dti_froc.png\"\n",
    "plt.tight_layout()\n",
    "plt.savefig(output_path, bbox_inches='tight')\n",
    "plt.show()\n",
    "\n",
    "print(f\"FROC curve saved at {output_path}\")\n"
   ]
  },
  {
   "cell_type": "markdown",
   "id": "06bfad28",
   "metadata": {},
   "source": [
    "# RSNA-INB 20k iter "
   ]
  },
  {
   "cell_type": "code",
   "execution_count": null,
   "id": "2735efdf",
   "metadata": {
    "vscode": {
     "languageId": "plaintext"
    }
   },
   "outputs": [],
   "source": [
    "import numpy as np\n",
    "import matplotlib.pyplot as plt\n",
    "import os\n",
    "\n",
    "# Use a serif font for a more academic look\n",
    "plt.rcParams.update({\n",
    "    \"font.family\": \"serif\",\n",
    "    \"font.size\": 14,\n",
    "    \"figure.dpi\": 300\n",
    "})\n",
    "\n",
    "# Data\n",
    "froc_values_our = [0.01098901098901099, 0.01098901098901099, 0.06593406593406594, 0.08791208791208792, 0.12087912087912088, 0.2857142857142857, 0.3626373626373626, 0.4945054945054945, 0.6263736263736264, 0.7802197802197802, 0.9230769230769231, 0.9230769230769231, 0.9230769230769231, 0.9230769230769231]\n",
    "froc_values_source = [0.02197802197802198, 0.02197802197802198, 0.054945054945054944, 0.17582417582417584, 0.2087912087912088, 0.31868131868131866, 0.46153846153846156, 0.5494505494505495, 0.6923076923076923, 0.7912087912087912, 0.9230769230769231, 0.9230769230769231, 0.9230769230769231, 0.9230769230769231]\n",
    "fpi_levels = [0.025, 0.05, 0.1, 0.15, 0.2, 0.3, 0.4, 0.5, 0.6, 0.7, 0.8, 0.9, 0.99, 1]\n",
    "\n",
    "# Plot setup\n",
    "plt.figure(figsize=(8, 5))\n",
    "\n",
    "# Use edgecolor-only markers for better visibility when overlapping\n",
    "plt.plot(fpi_levels, froc_values_source, linestyle='-', marker='o', markersize=6,\n",
    "         markerfacecolor='white', markeredgecolor='blue', color='blue', label=\"MT\")\n",
    "plt.plot(fpi_levels, froc_values_our, linestyle='-', marker='s', markersize=6,\n",
    "         markerfacecolor='white', markeredgecolor='red', color='red', label=\"GT (ours)\")\n",
    "\n",
    "# Axis labels and title\n",
    "plt.xlabel(\"False Positives per Image (FPI) — 410 images\")\n",
    "plt.ylabel(\"True Positive Rate (TPR)\")\n",
    "plt.title(\"FROC Curve Comparison — RSNA-INB Dataset\")\n",
    "\n",
    "# Grid and legend\n",
    "plt.grid(True, linestyle='--', alpha=0.6)\n",
    "plt.legend(loc='lower right', frameon=True)\n",
    "\n",
    "output_path = f\"/DATA/Rajes/Research/AASFOD/rti_froc.png\"\n",
    "plt.tight_layout()\n",
    "plt.savefig(output_path, bbox_inches='tight')\n",
    "plt.show()\n",
    "\n",
    "print(f\"FROC curve saved at {output_path}\")\n"
   ]
  },
  {
   "cell_type": "markdown",
   "id": "e0a7b1ca",
   "metadata": {},
   "source": [
    "# DDSM-RSNA 25k"
   ]
  },
  {
   "cell_type": "code",
   "execution_count": null,
   "id": "a12077b8",
   "metadata": {
    "vscode": {
     "languageId": "plaintext"
    }
   },
   "outputs": [],
   "source": [
    "import numpy as np\n",
    "import matplotlib.pyplot as plt\n",
    "import os\n",
    "\n",
    "# Use a serif font for a more academic look\n",
    "plt.rcParams.update({\n",
    "    \"font.family\": \"serif\",\n",
    "    \"font.size\": 14,\n",
    "    \"figure.dpi\": 300\n",
    "})\n",
    "\n",
    "# Data\n",
    "froc_values_our = [0.06403940886699508, 0.10837438423645321, 0.17733990147783252, 0.2315270935960591, 0.35960591133004927, 0.43842364532019706, 0.5073891625615764, 0.5812807881773399, 0.6847290640394089, 0.8374384236453202, 0.9230769230769231, 0.9230769230769231, 0.9230769230769231, 0.9230769230769231]\n",
    "froc_values_source = [0.01098901098901099, 0.01098901098901099, 0.03296703296703297, 0.16483516483516483, 0.2087912087912088, 0.3076923076923077, 0.4065934065934066, 0.5494505494505495, 0.6373626373626373, 0.7582417582417582, 0.9230769230769231, 0.9230769230769231, 0.9230769230769231, 0.9230769230769231]\n",
    "fpi_levels = [0.025, 0.05, 0.1, 0.15, 0.2, 0.3, 0.4, 0.5, 0.6, 0.7, 0.8, 0.9, 0.99, 1]\n",
    "\n",
    "# Plot setup\n",
    "plt.figure(figsize=(8, 5))\n",
    "\n",
    "# Use edgecolor-only markers for better visibility when overlapping\n",
    "plt.plot(fpi_levels, froc_values_source, linestyle='-', marker='o', markersize=6,\n",
    "         markerfacecolor='white', markeredgecolor='blue', color='blue', label=\"MT\")\n",
    "plt.plot(fpi_levels, froc_values_our, linestyle='-', marker='s', markersize=6,\n",
    "         markerfacecolor='white', markeredgecolor='red', color='red', label=\"GT (ours)\")\n",
    "\n",
    "# Axis labels and title\n",
    "plt.xlabel(\"False Positives per Image (FPI) — 993 images\")\n",
    "plt.ylabel(\"True Positive Rate (TPR)\")\n",
    "plt.title(\"FROC Curve Comparison — DDSM-RSNA Dataset\")\n",
    "\n",
    "# Grid and legend\n",
    "plt.grid(True, linestyle='--', alpha=0.6)\n",
    "plt.legend(loc='lower right', frameon=True)\n",
    "\n",
    "output_path = f\"/DATA/Rajes/Research/AASFOD/dtr_froc.png\"\n",
    "plt.tight_layout()\n",
    "plt.savefig(output_path, bbox_inches='tight')\n",
    "plt.show()\n",
    "\n",
    "print(f\"FROC curve saved at {output_path}\")\n"
   ]
  }
 ],
 "metadata": {
  "language_info": {
   "name": "python"
  }
 },
 "nbformat": 4,
 "nbformat_minor": 5
}
